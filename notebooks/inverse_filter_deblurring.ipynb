{
  "cells": [
    {
      "cell_type": "markdown",
      "metadata": {
        "id": "hgWqM8dQiLWL"
      },
      "source": [
        "Team Members: Raya Namazi - Sina Daneshgar\n",
        "\n",
        "Student Number:"
      ]
    },
    {
      "cell_type": "markdown",
      "metadata": {
        "id": "phGJuDkEiTtg"
      },
      "source": [
        "Necessary Imports"
      ]
    },
    {
      "cell_type": "code",
      "execution_count": 2,
      "metadata": {},
      "outputs": [
        {
          "name": "stdout",
          "output_type": "stream",
          "text": [
            "Collecting matplotlib\n",
            "  Using cached matplotlib-3.10.3-cp310-cp310-win_amd64.whl.metadata (11 kB)\n",
            "Collecting contourpy>=1.0.1 (from matplotlib)\n",
            "  Using cached contourpy-1.3.2-cp310-cp310-win_amd64.whl.metadata (5.5 kB)\n",
            "Collecting cycler>=0.10 (from matplotlib)\n",
            "  Using cached cycler-0.12.1-py3-none-any.whl.metadata (3.8 kB)\n",
            "Collecting fonttools>=4.22.0 (from matplotlib)\n",
            "  Downloading fonttools-4.58.1-cp310-cp310-win_amd64.whl.metadata (108 kB)\n",
            "     ---------------------------------------- 0.0/108.2 kB ? eta -:--:--\n",
            "     ----------- --------------------------- 30.7/108.2 kB 1.4 MB/s eta 0:00:01\n",
            "     ---------------------------- -------- 81.9/108.2 kB 770.8 kB/s eta 0:00:01\n",
            "     ------------------------------------ 108.2/108.2 kB 700.0 kB/s eta 0:00:00\n",
            "Collecting kiwisolver>=1.3.1 (from matplotlib)\n",
            "  Using cached kiwisolver-1.4.8-cp310-cp310-win_amd64.whl.metadata (6.3 kB)\n",
            "Requirement already satisfied: numpy>=1.23 in c:\\users\\danes\\appdata\\local\\programs\\python\\python310\\lib\\site-packages (from matplotlib) (1.24.3)\n",
            "Requirement already satisfied: packaging>=20.0 in c:\\users\\danes\\appdata\\roaming\\python\\python310\\site-packages (from matplotlib) (24.2)\n",
            "Requirement already satisfied: pillow>=8 in c:\\users\\danes\\appdata\\local\\programs\\python\\python310\\lib\\site-packages (from matplotlib) (11.2.1)\n",
            "Collecting pyparsing>=2.3.1 (from matplotlib)\n",
            "  Using cached pyparsing-3.2.3-py3-none-any.whl.metadata (5.0 kB)\n",
            "Requirement already satisfied: python-dateutil>=2.7 in c:\\users\\danes\\appdata\\roaming\\python\\python310\\site-packages (from matplotlib) (2.9.0.post0)\n",
            "Requirement already satisfied: six>=1.5 in c:\\users\\danes\\appdata\\roaming\\python\\python310\\site-packages (from python-dateutil>=2.7->matplotlib) (1.17.0)\n",
            "Using cached matplotlib-3.10.3-cp310-cp310-win_amd64.whl (8.1 MB)\n",
            "Using cached contourpy-1.3.2-cp310-cp310-win_amd64.whl (221 kB)\n",
            "Using cached cycler-0.12.1-py3-none-any.whl (8.3 kB)\n",
            "Downloading fonttools-4.58.1-cp310-cp310-win_amd64.whl (2.2 MB)\n",
            "   ---------------------------------------- 0.0/2.2 MB ? eta -:--:--\n",
            "   -- ------------------------------------- 0.1/2.2 MB 6.4 MB/s eta 0:00:01\n",
            "   -- ------------------------------------- 0.1/2.2 MB 2.1 MB/s eta 0:00:01\n",
            "   ---- ----------------------------------- 0.2/2.2 MB 2.1 MB/s eta 0:00:01\n",
            "   ----- ---------------------------------- 0.3/2.2 MB 2.0 MB/s eta 0:00:01\n",
            "   -------- ------------------------------- 0.5/2.2 MB 2.2 MB/s eta 0:00:01\n",
            "   ------------ --------------------------- 0.7/2.2 MB 2.6 MB/s eta 0:00:01\n",
            "   --------------------- ------------------ 1.2/2.2 MB 3.7 MB/s eta 0:00:01\n",
            "   --------------------------- ------------ 1.5/2.2 MB 4.3 MB/s eta 0:00:01\n",
            "   ---------------------------------------  2.2/2.2 MB 5.5 MB/s eta 0:00:01\n",
            "   ---------------------------------------- 2.2/2.2 MB 5.1 MB/s eta 0:00:00\n",
            "Using cached kiwisolver-1.4.8-cp310-cp310-win_amd64.whl (71 kB)\n",
            "Using cached pyparsing-3.2.3-py3-none-any.whl (111 kB)\n",
            "Installing collected packages: pyparsing, kiwisolver, fonttools, cycler, contourpy, matplotlib\n",
            "Successfully installed contourpy-1.3.2 cycler-0.12.1 fonttools-4.58.1 kiwisolver-1.4.8 matplotlib-3.10.3 pyparsing-3.2.3\n",
            "Note: you may need to restart the kernel to use updated packages.\n"
          ]
        },
        {
          "name": "stderr",
          "output_type": "stream",
          "text": [
            "\n",
            "[notice] A new release of pip is available: 24.0 -> 25.1.1\n",
            "[notice] To update, run: python.exe -m pip install --upgrade pip\n"
          ]
        }
      ],
      "source": [
        "pip install matplotlib"
      ]
    },
    {
      "cell_type": "code",
      "execution_count": 8,
      "metadata": {},
      "outputs": [
        {
          "name": "stdout",
          "output_type": "stream",
          "text": [
            "Collecting scikit-imageNote: you may need to restart the kernel to use updated packages.\n",
            "\n",
            "  Using cached scikit_image-0.25.2-cp310-cp310-win_amd64.whl.metadata (14 kB)\n",
            "Requirement already satisfied: numpy>=1.24 in c:\\users\\danes\\appdata\\local\\programs\\python\\python310\\lib\\site-packages (from scikit-image) (1.24.3)\n",
            "Requirement already satisfied: scipy>=1.11.4 in c:\\users\\danes\\appdata\\local\\programs\\python\\python310\\lib\\site-packages (from scikit-image) (1.13.1)\n",
            "Requirement already satisfied: networkx>=3.0 in c:\\users\\danes\\appdata\\local\\programs\\python\\python310\\lib\\site-packages (from scikit-image) (3.4.2)\n",
            "Requirement already satisfied: pillow>=10.1 in c:\\users\\danes\\appdata\\local\\programs\\python\\python310\\lib\\site-packages (from scikit-image) (11.2.1)\n",
            "Collecting imageio!=2.35.0,>=2.33 (from scikit-image)\n",
            "  Using cached imageio-2.37.0-py3-none-any.whl.metadata (5.2 kB)\n",
            "Collecting tifffile>=2022.8.12 (from scikit-image)\n",
            "  Using cached tifffile-2025.5.10-py3-none-any.whl.metadata (31 kB)\n",
            "Requirement already satisfied: packaging>=21 in c:\\users\\danes\\appdata\\roaming\\python\\python310\\site-packages (from scikit-image) (24.2)\n",
            "Collecting lazy-loader>=0.4 (from scikit-image)\n",
            "  Using cached lazy_loader-0.4-py3-none-any.whl.metadata (7.6 kB)\n",
            "Using cached scikit_image-0.25.2-cp310-cp310-win_amd64.whl (12.8 MB)\n",
            "Using cached imageio-2.37.0-py3-none-any.whl (315 kB)\n",
            "Using cached lazy_loader-0.4-py3-none-any.whl (12 kB)\n",
            "Using cached tifffile-2025.5.10-py3-none-any.whl (226 kB)\n",
            "Installing collected packages: tifffile, lazy-loader, imageio, scikit-image\n",
            "Successfully installed imageio-2.37.0 lazy-loader-0.4 scikit-image-0.25.2 tifffile-2025.5.10\n"
          ]
        },
        {
          "name": "stderr",
          "output_type": "stream",
          "text": [
            "\n",
            "[notice] A new release of pip is available: 24.0 -> 25.1.1\n",
            "[notice] To update, run: python.exe -m pip install --upgrade pip\n"
          ]
        }
      ],
      "source": [
        "pip install scikit-image"
      ]
    },
    {
      "cell_type": "code",
      "execution_count": 9,
      "metadata": {
        "id": "jYmZ9Ka6iXlh"
      },
      "outputs": [],
      "source": [
        "import cv2\n",
        "import numpy as np\n",
        "import matplotlib.pyplot as plt\n",
        "from skimage.metrics import peak_signal_noise_ratio as psnr, structural_similarity as ssim"
      ]
    },
    {
      "cell_type": "markdown",
      "metadata": {
        "id": "CL1vroDciZON"
      },
      "source": [
        "At first, we need to apply motion blur manually, we call it \"simulating motion blur\".\n",
        "\n",
        "the steps is:\n",
        "\n",
        "1) Load a clean image\n",
        "\n",
        "2) Generate a motion blur Point Spread Function (PSF)\n",
        "\n",
        "3) Convolve PSF with the image to create a blurred version."
      ]
    },
    {
      "cell_type": "code",
      "execution_count": 10,
      "metadata": {
        "id": "vupkwfYXmHB2"
      },
      "outputs": [],
      "source": [
        "def apply_motion_blur(image, size=15):\n",
        "    \"\"\"\n",
        "    Apply a simple horizontal motion blur to an image.\n",
        "    Returns the blurred image and the blur kernel (PSF).\n",
        "    \"\"\"\n",
        "    kernel = np.zeros((size, size))\n",
        "    kernel[int((size - 1) / 2), :] = np.ones(size)\n",
        "    kernel /= size\n",
        "    blurred = cv2.filter2D(image, -1, kernel, borderType=cv2.BORDER_REPLICATE)\n",
        "    return blurred, kernel"
      ]
    },
    {
      "cell_type": "code",
      "execution_count": 11,
      "metadata": {
        "id": "jD3UoYxmm2ou"
      },
      "outputs": [],
      "source": [
        "def inverse_filter(blurred, kernel, eps=1e-3):\n",
        "    \"\"\"\n",
        "    Restore a blurred image using inverse filtering in the frequency domain.\n",
        "    \"\"\"\n",
        "\n",
        "    kh, kw = kernel.shape\n",
        "    ih, iw = blurred.shape\n",
        "    pad = ((0, ih - kh), (0, iw - kw))\n",
        "    kernel_padded = np.pad(kernel, pad, 'constant')\n",
        "\n",
        "    dft_blurred = np.fft.fft2(blurred)\n",
        "    dft_kernel = np.fft.fft2(kernel_padded)\n",
        "\n",
        "    dft_kernel[np.abs(dft_kernel) < eps] = eps\n",
        "\n",
        "    dft_restored = dft_blurred / dft_kernel\n",
        "    restored = np.fft.ifft2(dft_restored)\n",
        "    restored = np.abs(restored)\n",
        "\n",
        "    restored = np.clip(restored, 0, 255).astype('uint8')\n",
        "    return restored"
      ]
    },
    {
      "cell_type": "code",
      "execution_count": 13,
      "metadata": {
        "colab": {
          "base_uri": "https://localhost:8080/",
          "height": 219
        },
        "id": "3_F_cicF_fnm",
        "outputId": "db9ce564-066e-4eac-a138-30657685cb27"
      },
      "outputs": [
        {
          "ename": "FileNotFoundError",
          "evalue": "Image not found! Check path.",
          "output_type": "error",
          "traceback": [
            "\u001b[1;31m---------------------------------------------------------------------------\u001b[0m",
            "\u001b[1;31mFileNotFoundError\u001b[0m                         Traceback (most recent call last)",
            "Cell \u001b[1;32mIn[13], line 3\u001b[0m\n\u001b[0;32m      1\u001b[0m image \u001b[38;5;241m=\u001b[39m cv2\u001b[38;5;241m.\u001b[39mimread(\u001b[38;5;124m'\u001b[39m\u001b[38;5;124mimages/obama.jpg\u001b[39m\u001b[38;5;124m'\u001b[39m, cv2\u001b[38;5;241m.\u001b[39mIMREAD_GRAYSCALE)\n\u001b[0;32m      2\u001b[0m \u001b[38;5;28;01mif\u001b[39;00m image \u001b[38;5;129;01mis\u001b[39;00m \u001b[38;5;28;01mNone\u001b[39;00m:\n\u001b[1;32m----> 3\u001b[0m     \u001b[38;5;28;01mraise\u001b[39;00m \u001b[38;5;167;01mFileNotFoundError\u001b[39;00m(\u001b[38;5;124m\"\u001b[39m\u001b[38;5;124mImage not found! Check path.\u001b[39m\u001b[38;5;124m\"\u001b[39m)\n\u001b[0;32m      5\u001b[0m blurred, psf \u001b[38;5;241m=\u001b[39m apply_motion_blur(image, size\u001b[38;5;241m=\u001b[39m\u001b[38;5;241m20\u001b[39m)\n\u001b[0;32m      6\u001b[0m restored \u001b[38;5;241m=\u001b[39m inverse_filter(blurred, psf)\n",
            "\u001b[1;31mFileNotFoundError\u001b[0m: Image not found! Check path."
          ]
        }
      ],
      "source": [
        "image = cv2.imread('images/obama.jpg', cv2.IMREAD_GRAYSCALE)\n",
        "if image is None:\n",
        "    raise FileNotFoundError(\"Image not found! Check path.\")\n",
        "\n",
        "blurred, psf = apply_motion_blur(image, size=20)\n",
        "restored = inverse_filter(blurred, psf)\n",
        "\n",
        "plt.figure(figsize=(12, 6))\n",
        "plt.subplot(1, 3, 1)\n",
        "plt.title(\"Original\")\n",
        "plt.imshow(image, cmap='gray')\n",
        "plt.axis('off')\n",
        "\n",
        "plt.subplot(1, 3, 2)\n",
        "plt.title(\"Motion Blurred\")\n",
        "plt.imshow(blurred, cmap='gray')\n",
        "plt.axis('off')\n",
        "\n",
        "plt.subplot(1, 3, 3)\n",
        "plt.title(\"Restored (Inverse Filter)\")\n",
        "plt.imshow(restored, cmap='gray')\n",
        "plt.axis('off')\n",
        "\n",
        "plt.tight_layout()\n",
        "plt.show()"
      ]
    },
    {
      "cell_type": "code",
      "execution_count": 8,
      "metadata": {
        "colab": {
          "base_uri": "https://localhost:8080/",
          "height": 183
        },
        "id": "lWHghId9mxH3",
        "outputId": "eb66e514-81fa-4249-c49a-f4f3a3d28fb4"
      },
      "outputs": [
        {
          "ename": "NameError",
          "evalue": "name 'blurred' is not defined",
          "output_type": "error",
          "traceback": [
            "\u001b[0;31m---------------------------------------------------------------------------\u001b[0m",
            "\u001b[0;31mNameError\u001b[0m                                 Traceback (most recent call last)",
            "\u001b[0;32m<ipython-input-8-29ea7cc21e97>\u001b[0m in \u001b[0;36m<cell line: 0>\u001b[0;34m()\u001b[0m\n\u001b[1;32m      6\u001b[0m \u001b[0;34m\u001b[0m\u001b[0m\n\u001b[1;32m      7\u001b[0m \u001b[0;34m\u001b[0m\u001b[0m\n\u001b[0;32m----> 8\u001b[0;31m \u001b[0mprint_metrics\u001b[0m\u001b[0;34m(\u001b[0m\u001b[0mimage\u001b[0m\u001b[0;34m,\u001b[0m \u001b[0mblurred\u001b[0m\u001b[0;34m,\u001b[0m \u001b[0mrestored\u001b[0m\u001b[0;34m)\u001b[0m\u001b[0;34m\u001b[0m\u001b[0;34m\u001b[0m\u001b[0m\n\u001b[0m",
            "\u001b[0;31mNameError\u001b[0m: name 'blurred' is not defined"
          ]
        }
      ],
      "source": [
        "def print_metrics(original, blurred, restored):\n",
        "    print(\"PSNR (blurred):\", psnr(original, blurred))\n",
        "    print(\"SSIM (blurred):\", ssim(original, blurred))\n",
        "    print(\"PSNR (restored):\", psnr(original, restored))\n",
        "    print(\"SSIM (restored):\", ssim(original, restored))\n",
        "\n",
        "\n",
        "print_metrics(image, blurred, restored)"
      ]
    }
  ],
  "metadata": {
    "colab": {
      "provenance": []
    },
    "kernelspec": {
      "display_name": "Python 3",
      "name": "python3"
    },
    "language_info": {
      "codemirror_mode": {
        "name": "ipython",
        "version": 3
      },
      "file_extension": ".py",
      "mimetype": "text/x-python",
      "name": "python",
      "nbconvert_exporter": "python",
      "pygments_lexer": "ipython3",
      "version": "3.10.5"
    }
  },
  "nbformat": 4,
  "nbformat_minor": 0
}
